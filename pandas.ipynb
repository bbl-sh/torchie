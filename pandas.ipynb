{
 "cells": [
  {
   "cell_type": "code",
   "execution_count": 3,
   "id": "8f2ecbc4-87e8-4c7e-8b2f-3dda03e301c9",
   "metadata": {},
   "outputs": [],
   "source": [
    "import pandas as pd"
   ]
  },
  {
   "cell_type": "code",
   "execution_count": 5,
   "id": "20bdcdbd-04ee-4438-9719-b056d118ed82",
   "metadata": {},
   "outputs": [
    {
     "name": "stdout",
     "output_type": "stream",
     "text": [
      "   cars  pass\n",
      "0   bmw     1\n",
      "1  tata     2\n"
     ]
    }
   ],
   "source": [
    "my_dataset = {\n",
    "    'cars':[\"bmw\", \"tata\"],\n",
    "    'pass':[1, 2]\n",
    "}\n",
    "\n",
    "print(pd.DataFrame(my_dataset))"
   ]
  },
  {
   "cell_type": "code",
   "execution_count": 6,
   "id": "3e5180b8-2b72-4b4a-936f-cfff4bc2f6e5",
   "metadata": {},
   "outputs": [
    {
     "name": "stdout",
     "output_type": "stream",
     "text": [
      "0    1\n",
      "1    2\n",
      "2    3\n",
      "dtype: int64\n"
     ]
    }
   ],
   "source": [
    "a = [1, 2, 3]\n",
    "print(pd.Series(a))"
   ]
  },
  {
   "cell_type": "code",
   "execution_count": 8,
   "id": "eb884e1d-cf3a-42a6-acc1-72e1199cf7dc",
   "metadata": {},
   "outputs": [
    {
     "data": {
      "text/plain": [
       "x    1\n",
       "z    2\n",
       "y    3\n",
       "dtype: int64"
      ]
     },
     "execution_count": 8,
     "metadata": {},
     "output_type": "execute_result"
    }
   ],
   "source": [
    "var = pd.Series(a, index = {\"x\", \"y\", \"z\"})\n",
    "var"
   ]
  },
  {
   "cell_type": "code",
   "execution_count": null,
   "id": "70c0d25f-f236-445e-a61b-5e415a356c18",
   "metadata": {},
   "outputs": [],
   "source": []
  }
 ],
 "metadata": {
  "kernelspec": {
   "display_name": "myenv",
   "language": "python",
   "name": "myenv"
  },
  "language_info": {
   "codemirror_mode": {
    "name": "ipython",
    "version": 3
   },
   "file_extension": ".py",
   "mimetype": "text/x-python",
   "name": "python",
   "nbconvert_exporter": "python",
   "pygments_lexer": "ipython3",
   "version": "3.12.4"
  }
 },
 "nbformat": 4,
 "nbformat_minor": 5
}
